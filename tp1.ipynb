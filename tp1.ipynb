{
 "cells": [
  {
   "cell_type": "code",
   "execution_count": 12,
   "metadata": {},
   "outputs": [
    {
     "name": "stdout",
     "output_type": "stream",
     "text": [
      "Requirement already satisfied: qiskit in ./lib/python3.10/site-packages (0.45.0)\n",
      "Collecting qiskit-aer\n",
      "  Downloading qiskit_aer-0.13.0-cp310-cp310-manylinux_2_17_x86_64.manylinux2014_x86_64.whl (12.3 MB)\n",
      "\u001b[2K     \u001b[38;2;114;156;31m━━━━━━━━━━━━━━━━━━━━━━━━━━━━━━━━━━━━━━━━\u001b[0m \u001b[32m12.3/12.3 MB\u001b[0m \u001b[31m13.5 MB/s\u001b[0m eta \u001b[36m0:00:00\u001b[0mm eta \u001b[36m0:00:01\u001b[0m[36m0:00:01\u001b[0m\n",
      "\u001b[?25hRequirement already satisfied: matplotlib in ./lib/python3.10/site-packages (3.8.1)\n",
      "Requirement already satisfied: pylatexenc in ./lib/python3.10/site-packages (2.10)\n",
      "Requirement already satisfied: qiskit-terra==0.45.0 in ./lib/python3.10/site-packages (from qiskit) (0.45.0)\n",
      "Requirement already satisfied: rustworkx>=0.13.0 in ./lib/python3.10/site-packages (from qiskit-terra==0.45.0->qiskit) (0.13.2)\n",
      "Requirement already satisfied: psutil>=5 in ./lib/python3.10/site-packages (from qiskit-terra==0.45.0->qiskit) (5.9.6)\n",
      "Requirement already satisfied: dill>=0.3 in ./lib/python3.10/site-packages (from qiskit-terra==0.45.0->qiskit) (0.3.7)\n",
      "Requirement already satisfied: stevedore>=3.0.0 in ./lib/python3.10/site-packages (from qiskit-terra==0.45.0->qiskit) (5.1.0)\n",
      "Requirement already satisfied: typing-extensions in ./lib/python3.10/site-packages (from qiskit-terra==0.45.0->qiskit) (4.8.0)\n",
      "Requirement already satisfied: numpy<2,>=1.17 in ./lib/python3.10/site-packages (from qiskit-terra==0.45.0->qiskit) (1.26.1)\n",
      "Requirement already satisfied: symengine<0.10,>=0.9 in ./lib/python3.10/site-packages (from qiskit-terra==0.45.0->qiskit) (0.9.2)\n",
      "Requirement already satisfied: sympy>=1.3 in ./lib/python3.10/site-packages (from qiskit-terra==0.45.0->qiskit) (1.12)\n",
      "Requirement already satisfied: python-dateutil>=2.8.0 in ./lib/python3.10/site-packages (from qiskit-terra==0.45.0->qiskit) (2.8.2)\n",
      "Requirement already satisfied: scipy>=1.5 in ./lib/python3.10/site-packages (from qiskit-terra==0.45.0->qiskit) (1.11.3)\n",
      "Requirement already satisfied: ply>=3.10 in ./lib/python3.10/site-packages (from qiskit-terra==0.45.0->qiskit) (3.11)\n",
      "Requirement already satisfied: contourpy>=1.0.1 in ./lib/python3.10/site-packages (from matplotlib) (1.2.0)\n",
      "Requirement already satisfied: fonttools>=4.22.0 in ./lib/python3.10/site-packages (from matplotlib) (4.44.0)\n",
      "Requirement already satisfied: packaging>=20.0 in ./lib/python3.10/site-packages (from matplotlib) (23.2)\n",
      "Requirement already satisfied: kiwisolver>=1.3.1 in ./lib/python3.10/site-packages (from matplotlib) (1.4.5)\n",
      "Requirement already satisfied: pillow>=8 in ./lib/python3.10/site-packages (from matplotlib) (10.1.0)\n",
      "Requirement already satisfied: pyparsing>=2.3.1 in ./lib/python3.10/site-packages (from matplotlib) (3.1.1)\n",
      "Requirement already satisfied: cycler>=0.10 in ./lib/python3.10/site-packages (from matplotlib) (0.12.1)\n",
      "Requirement already satisfied: six>=1.5 in ./lib/python3.10/site-packages (from python-dateutil>=2.8.0->qiskit-terra==0.45.0->qiskit) (1.16.0)\n",
      "Requirement already satisfied: pbr!=2.1.0,>=2.0.0 in ./lib/python3.10/site-packages (from stevedore>=3.0.0->qiskit-terra==0.45.0->qiskit) (6.0.0)\n",
      "Requirement already satisfied: mpmath>=0.19 in ./lib/python3.10/site-packages (from sympy>=1.3->qiskit-terra==0.45.0->qiskit) (1.3.0)\n",
      "Installing collected packages: qiskit-aer\n",
      "Successfully installed qiskit-aer-0.13.0\n"
     ]
    }
   ],
   "source": [
    "!pip install qiskit qiskit-aer matplotlib pylatexenc"
   ]
  },
  {
   "cell_type": "code",
   "execution_count": 1,
   "id": "33150ae1419c6e92",
   "metadata": {
    "ExecuteTime": {
     "end_time": "2023-11-10T08:16:04.991399100Z",
     "start_time": "2023-11-10T08:16:03.069330700Z"
    },
    "collapsed": false
   },
   "outputs": [],
   "source": [
    "from qiskit import QuantumCircuit, execute, Aer\n",
    "from qiskit.visualization import plot_histogram"
   ]
  },
  {
   "cell_type": "code",
   "execution_count": 2,
   "id": "238cfa9c7d3c6eed",
   "metadata": {
    "ExecuteTime": {
     "end_time": "2023-11-10T08:16:05.008096300Z",
     "start_time": "2023-11-10T08:16:04.996937500Z"
    },
    "collapsed": false
   },
   "outputs": [],
   "source": [
    "QC = QuantumCircuit(3)"
   ]
  },
  {
   "cell_type": "code",
   "execution_count": 3,
   "id": "1ccee5eaaace3e4e",
   "metadata": {
    "ExecuteTime": {
     "end_time": "2023-11-10T08:16:05.050199600Z",
     "start_time": "2023-11-10T08:16:05.009095300Z"
    },
    "collapsed": false
   },
   "outputs": [
    {
     "name": "stdout",
     "output_type": "stream",
     "text": [
      "<qiskit.circuit.instructionset.InstructionSet object at 0x7f22663bdde0>\n",
      "<qiskit.circuit.instructionset.InstructionSet object at 0x7f22663bddb0>\n",
      "<qiskit.circuit.instructionset.InstructionSet object at 0x7f22663bd8d0>\n"
     ]
    }
   ],
   "source": [
    "print(QC.h(0))\n",
    "print(QC.h(2))\n",
    "print(QC.cx(0, 1))"
   ]
  },
  {
   "cell_type": "code",
   "execution_count": null,
   "metadata": {},
   "outputs": [],
   "source": []
  },
  {
   "cell_type": "markdown",
   "id": "2ac29e54f3fdc344",
   "metadata": {
    "collapsed": false
   },
   "source": [
    "## CNOT entre q2:control et q1:target"
   ]
  },
  {
   "cell_type": "code",
   "execution_count": 4,
   "id": "baf9c23e38b7454",
   "metadata": {
    "ExecuteTime": {
     "end_time": "2023-11-10T08:16:05.188188700Z",
     "start_time": "2023-11-10T08:16:05.088409800Z"
    },
    "collapsed": false
   },
   "outputs": [
    {
     "data": {
      "text/plain": [
       "<qiskit.circuit.instructionset.InstructionSet at 0x7f22663be260>"
      ]
     },
     "execution_count": 4,
     "metadata": {},
     "output_type": "execute_result"
    }
   ],
   "source": [
    "QC.cx(2, 1)\n",
    "QC.x(2)"
   ]
  },
  {
   "cell_type": "code",
   "execution_count": 5,
   "id": "2f7d7f6b357828a1",
   "metadata": {
    "ExecuteTime": {
     "end_time": "2023-11-10T08:16:05.190186900Z",
     "start_time": "2023-11-10T08:16:05.132564500Z"
    },
    "collapsed": false
   },
   "outputs": [
    {
     "data": {
      "text/plain": [
       "<qiskit.circuit.instructionset.InstructionSet at 0x7f22663be170>"
      ]
     },
     "execution_count": 5,
     "metadata": {},
     "output_type": "execute_result"
    }
   ],
   "source": [
    "QC.cx(2, 0)\n",
    "QC.x(2)"
   ]
  },
  {
   "cell_type": "code",
   "execution_count": 6,
   "id": "78544b0244abd444",
   "metadata": {
    "ExecuteTime": {
     "end_time": "2023-11-10T08:16:05.224334200Z",
     "start_time": "2023-11-10T08:16:05.170215800Z"
    },
    "collapsed": false
   },
   "outputs": [
    {
     "data": {
      "text/plain": [
       "<qiskit.circuit.instructionset.InstructionSet at 0x7f22663be1a0>"
      ]
     },
     "execution_count": 6,
     "metadata": {},
     "output_type": "execute_result"
    }
   ],
   "source": [
    "QC.swap(0, 1)"
   ]
  },
  {
   "cell_type": "code",
   "execution_count": 7,
   "id": "4abf3b6b5300cde2",
   "metadata": {
    "ExecuteTime": {
     "end_time": "2023-11-10T08:16:05.343975100Z",
     "start_time": "2023-11-10T08:16:05.195719200Z"
    },
    "collapsed": false
   },
   "outputs": [
    {
     "data": {
      "text/plain": [
       "<qiskit.circuit.instructionset.InstructionSet at 0x7f22663be110>"
      ]
     },
     "execution_count": 7,
     "metadata": {},
     "output_type": "execute_result"
    }
   ],
   "source": [
    "QC.x(0)\n",
    "QC.x(1)"
   ]
  },
  {
   "cell_type": "code",
   "execution_count": 8,
   "id": "b4b8c8aea21a79bc",
   "metadata": {
    "ExecuteTime": {
     "end_time": "2023-11-10T08:16:05.368440400Z",
     "start_time": "2023-11-10T08:16:05.213766200Z"
    },
    "collapsed": false
   },
   "outputs": [
    {
     "data": {
      "text/plain": [
       "<qiskit.circuit.instructionset.InstructionSet at 0x7f22663bdd80>"
      ]
     },
     "execution_count": 8,
     "metadata": {},
     "output_type": "execute_result"
    }
   ],
   "source": [
    "QC.cx(2, 1)\n",
    "QC.x(2)\n",
    "QC.cx(2,0)\n",
    "QC.x(2)"
   ]
  },
  {
   "cell_type": "code",
   "execution_count": 9,
   "id": "696dad4234f42f78",
   "metadata": {
    "ExecuteTime": {
     "end_time": "2023-11-10T08:16:06.287933300Z",
     "start_time": "2023-11-10T08:16:05.243400500Z"
    },
    "collapsed": false
   },
   "outputs": [
    {
     "name": "stderr",
     "output_type": "stream",
     "text": [
      "/home/yasser/Documents/quantum_computing/quantum/lib/python3.10/site-packages/qiskit/visualization/circuit/matplotlib.py:266: FutureWarning: The default matplotlib drawer scheme will be changed to \"iqp\" in a following release. To silence this warning, specify the current default explicitly as style=\"clifford\", or the new default as style=\"iqp\".\n",
      "  self._style, def_font_ratio = load_style(self._style)\n"
     ]
    },
    {
     "data": {
      "image/png": "[encoded data removed]",
      "text/plain": [
       "<Figure size 1416.5x367.889 with 1 Axes>"
      ]
     },
     "execution_count": 9,
     "metadata": {},
     "output_type": "execute_result"
    }
   ],
   "source": [
    "QC.measure_all()\n",
    "QC.draw(output='mpl')"
   ]
  },
  {
   "cell_type": "code",
   "execution_count": 13,
   "id": "de38a826cf0fb89",
   "metadata": {
    "ExecuteTime": {
     "end_time": "2023-11-10T08:16:07.015759100Z",
     "start_time": "2023-11-10T08:16:06.283756Z"
    },
    "collapsed": false
   },
   "outputs": [
    {
     "data": {
      "text/plain": [
       "{'100': 246, '000': 258, '011': 275, '111': 245}"
      ]
     },
     "execution_count": 13,
     "metadata": {},
     "output_type": "execute_result"
    }
   ],
   "source": [
    "simulator = Aer.get_backend('qasm_simulator')\n",
    "result = execute(QC, backend=simulator, shots=1024).result()\n",
    "counts = result.get_counts(QC)\n",
    "counts"
   ]
  },
  {
   "cell_type": "code",
   "execution_count": 12,
   "id": "5e412bc4e2eebd3f",
   "metadata": {
    "ExecuteTime": {
     "end_time": "2023-11-10T08:16:07.343137100Z",
     "start_time": "2023-11-10T08:16:07.027129100Z"
    },
    "collapsed": false
   },
   "outputs": [
    {
     "data": {
      "image/png": "[encoded data removed]",
      "text/plain": [
       "<Figure size 700x500 with 1 Axes>"
      ]
     },
     "execution_count": 12,
     "metadata": {},
     "output_type": "execute_result"
    }
   ],
   "source": [
    "plot_histogram(counts)"
   ]
  },
  {
   "cell_type": "code",
   "execution_count": 16,
   "id": "48ad6e50a202454c",
   "metadata": {
    "ExecuteTime": {
     "end_time": "2023-11-10T08:16:07.371121800Z",
     "start_time": "2023-11-10T08:16:07.344149Z"
    },
    "collapsed": false
   },
   "outputs": [],
   "source": []
  }
 ],
 "metadata": {
  "kernelspec": {
   "display_name": "Python 3",
   "language": "python",
   "name": "python3"
  },
  "language_info": {
   "codemirror_mode": {
    "name": "ipython",
    "version": 3
   },
   "file_extension": ".py",
   "mimetype": "text/x-python",
   "name": "python",
   "nbconvert_exporter": "python",
   "pygments_lexer": "ipython3",
   "version": "3.10.12"
  }
 },
 "nbformat": 4,
 "nbformat_minor": 5
}
